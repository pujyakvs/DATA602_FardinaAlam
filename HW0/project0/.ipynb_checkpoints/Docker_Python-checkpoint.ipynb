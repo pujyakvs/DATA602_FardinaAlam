{
 "cells": [
  {
   "cell_type": "code",
   "execution_count": 1,
   "id": "af0f73ed-8783-4c0b-a6ed-9b929984fdbd",
   "metadata": {},
   "outputs": [
    {
     "name": "stdout",
     "output_type": "stream",
     "text": [
      "Jupyter in Docker\n",
      "Venkata Sai Sri Pujya Kothapalli, 121985248\n"
     ]
    }
   ],
   "source": [
    "print(\"Jupyter in Docker\")\n",
    "print(\"Venkata Sai Sri Pujya Kothapalli, 121985248\")"
   ]
  },
  {
   "cell_type": "code",
   "execution_count": null,
   "id": "56201913-7d12-4a3c-9eca-7413e18bd584",
   "metadata": {},
   "outputs": [],
   "source": []
  }
 ],
 "metadata": {
  "kernelspec": {
   "display_name": "Python 3 (ipykernel)",
   "language": "python",
   "name": "python3"
  },
  "language_info": {
   "codemirror_mode": {
    "name": "ipython",
    "version": 3
   },
   "file_extension": ".py",
   "mimetype": "text/x-python",
   "name": "python",
   "nbconvert_exporter": "python",
   "pygments_lexer": "ipython3",
   "version": "3.13.7"
  }
 },
 "nbformat": 4,
 "nbformat_minor": 5
}
